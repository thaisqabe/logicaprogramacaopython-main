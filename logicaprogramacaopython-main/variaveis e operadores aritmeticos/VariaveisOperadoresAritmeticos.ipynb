{
  "nbformat": 4,
  "nbformat_minor": 0,
  "metadata": {
    "colab": {
      "provenance": [],
      "authorship_tag": "ABX9TyPdY6etk34cLC3Qr+eVQTHo",
      "include_colab_link": true
    },
    "kernelspec": {
      "name": "python3",
      "display_name": "Python 3"
    },
    "language_info": {
      "name": "python"
    }
  },
  "cells": [
    {
      "cell_type": "markdown",
      "metadata": {
        "id": "view-in-github",
        "colab_type": "text"
      },
      "source": [
        "<a href=\"https://colab.research.google.com/github/thaisqabe/logicaprogramacaopython/blob/main/variaveis%20e%20operadores%20aritmeticos/%20VariaveisOperadoresAritmeticos.ipynb\" target=\"_parent\"><img src=\"https://colab.research.google.com/assets/colab-badge.svg\" alt=\"Open In Colab\"/></a>"
      ]
    },
    {
      "cell_type": "markdown",
      "source": [
        "# Criando Variaveis"
      ],
      "metadata": {
        "id": "6ujmViJzBflb"
      }
    },
    {
      "cell_type": "markdown",
      "source": [
        "### Área do Quadrado\n",
        "\n",
        "\n"
      ],
      "metadata": {
        "id": "Go9DlzQmKNbE"
      }
    },
    {
      "cell_type": "code",
      "execution_count": null,
      "metadata": {
        "colab": {
          "base_uri": "https://localhost:8080/"
        },
        "id": "jDUfs-FpA_5d",
        "outputId": "ed487a2a-5326-448f-fecd-a073b75fb1b7"
      },
      "outputs": [
        {
          "output_type": "stream",
          "name": "stdout",
          "text": [
            "Digite o lado do quadrado: 4\n",
            "A área do quadrado é: 16.0\n"
          ]
        }
      ],
      "source": [
        "#entrada\n",
        "l = float(input(\"Digite o lado do quadrado: \"))\n",
        "#processamento\n",
        "a = l*l\n",
        "#saida\n",
        "print(\"A área do quadrado é:\", a)"
      ]
    },
    {
      "cell_type": "markdown",
      "source": [
        " ### Área do Retângulo"
      ],
      "metadata": {
        "id": "Bf24S1_KKFWl"
      }
    },
    {
      "cell_type": "code",
      "source": [
        "# entrada\n",
        "base = float(input(\"Digite a base do retângulo: \"))\n",
        "altura = float(input(\"Digite a altura do retângulo: \"))\n",
        "# processamento\n",
        "area = base*altura\n",
        "#saida\n",
        "print(\"A área do retângulo é:\", area)"
      ],
      "metadata": {
        "colab": {
          "base_uri": "https://localhost:8080/"
        },
        "id": "ngcQcHuFKV0D",
        "outputId": "1667cc86-01a6-423d-cfd4-313e061d7db8"
      },
      "execution_count": null,
      "outputs": [
        {
          "output_type": "stream",
          "name": "stdout",
          "text": [
            "Digite a base do retângulo: 4\n",
            "Digite a altura do retângulo: 2\n",
            "A área do retângulo é: 8.0\n"
          ]
        }
      ]
    },
    {
      "cell_type": "markdown",
      "source": [
        "### Área do Triângulo Retângulo"
      ],
      "metadata": {
        "id": "PlMAwlAMK-gc"
      }
    },
    {
      "cell_type": "code",
      "source": [
        "#entrada\n",
        "baset = float(input(\"Digite a base do triângulo: \"))\n",
        "alturat = float(input(\"Digite a altura do triângulo: \"))\n",
        "#processamento\n",
        "areat = baset*alturat/2\n",
        "#saida\n",
        "print(\"A área do triângulo é:\", areat)"
      ],
      "metadata": {
        "colab": {
          "base_uri": "https://localhost:8080/"
        },
        "id": "um5ZqkomLJyT",
        "outputId": "c31d77e5-f2dc-4ef6-d6f9-79ca85cbc264"
      },
      "execution_count": null,
      "outputs": [
        {
          "output_type": "stream",
          "name": "stdout",
          "text": [
            "Digite a base do triângulo: 8\n",
            "Digite a altura do triângulo: 4\n",
            "A área do triângulo é: 16.0\n"
          ]
        }
      ]
    },
    {
      "cell_type": "markdown",
      "source": [
        "### Área do Trapézio"
      ],
      "metadata": {
        "id": "BcfWWFYlL-dz"
      }
    },
    {
      "cell_type": "code",
      "source": [
        "#entrada\n",
        "basem = float(input(\"Digite a base maior do trapézio: \"))\n",
        "basen = float(input(\"Digite a base menor do trapézio: \"))\n",
        "alturatr = float(input(\"Digite a altura do trapézio: \"))\n",
        "#processamento\n",
        "areatr = ((basem+basen)*alturatr)/2\n",
        "#saida\n",
        "print(\"A área do trapézio é:\", areatr)"
      ],
      "metadata": {
        "colab": {
          "base_uri": "https://localhost:8080/"
        },
        "id": "ttZCmDUiMNzT",
        "outputId": "f80d11fb-1e5e-4fbd-ac67-c74dfc3c4f4a"
      },
      "execution_count": null,
      "outputs": [
        {
          "output_type": "stream",
          "name": "stdout",
          "text": [
            "Digite a base maior do trapézio: 6\n",
            "Digite a base menor do trapézio: 2\n",
            "Digite a altura do trapézio: 4\n",
            "A área do trapézio é: 16.0\n"
          ]
        }
      ]
    },
    {
      "cell_type": "markdown",
      "source": [
        "### Calcular quantos azulejos preciso"
      ],
      "metadata": {
        "id": "2x0_M8I4RCEK"
      }
    },
    {
      "cell_type": "code",
      "source": [
        "#entrada\n",
        "largazul = float(input(\"Digite a largura do azulejo em cm: \"))\n",
        "altazul = float(input(\"Digite a altura do azulejo em cm:\"))\n",
        "largpare = float(input(\"Digite a largura da parede em metros: \"))\n",
        "altpare = float(input(\"Digite a altura da parede em metros: \"))\n",
        "#processamento\n",
        "areaazul = largazul*altazul\n",
        "areapare = largpare*altpare\n",
        "areaazulm = areaazul/100\n",
        "quantazul = areapare/areaazulm\n",
        "#saida\n",
        "print(\"A área do azulejo em cm^2 é: \", areaazul)\n",
        "print(\"A área da parece em m^2 é: \", areapare)\n",
        "print(\"A quantidade de azulejos que você irá precisar é:\", quantazul)"
      ],
      "metadata": {
        "colab": {
          "base_uri": "https://localhost:8080/"
        },
        "id": "Dh46owT4RJF4",
        "outputId": "d3516739-1ac0-444e-822f-9c7092569afb"
      },
      "execution_count": null,
      "outputs": [
        {
          "output_type": "stream",
          "name": "stdout",
          "text": [
            "Digite a largura do azulejo em cm: 3\n",
            "Digite a altura do azulejo em cm:4\n",
            "Digite a largura da parede em metros: 4\n",
            "Digite a altura da parede em metros: 6\n",
            "A área do azulejo em cm^2 é:  12.0\n",
            "A área da parece em m** é:  24.0\n",
            "A quantidade de azulejos que você irá precisar é: 200.0\n"
          ]
        }
      ]
    },
    {
      "cell_type": "markdown",
      "source": [
        "### Área do círculo"
      ],
      "metadata": {
        "id": "p4uaZctUoYTX"
      }
    },
    {
      "cell_type": "code",
      "source": [
        "#entrada\n",
        "raio = float(input(\"Digite o raio do círculo: \"))\n",
        "#processamento\n",
        "areac = 3.14*(raio**2)\n",
        "#saida\n",
        "print(\"A área do círculo é:\", areac)\n"
      ],
      "metadata": {
        "colab": {
          "base_uri": "https://localhost:8080/"
        },
        "id": "tluia00jodXz",
        "outputId": "bab7cc46-fe3f-4ab2-9794-f3861e695d7a"
      },
      "execution_count": null,
      "outputs": [
        {
          "output_type": "stream",
          "name": "stdout",
          "text": [
            "Digite o raio do círculo: 15\n",
            "A área do círculo é: 706.5\n"
          ]
        }
      ]
    }
  ]
}